{
 "cells": [
  {
   "cell_type": "markdown",
   "metadata": {},
   "source": [
    "# Step-by-step Explanation of Performing LDA on the Wine Quality Dataset"
   ]
  },
  {
   "cell_type": "markdown",
   "metadata": {},
   "source": [
    "### Import the libraries"
   ]
  },
  {
   "cell_type": "code",
   "execution_count": null,
   "metadata": {},
   "outputs": [],
   "source": [
    "import pandas as pd\n",
    "import numpy as np\n",
    "from sklearn.model_selection import train_test_split\n",
    "from sklearn.decomposition import PCA\n",
    "from sklearn.discriminant_analysis import LinearDiscriminantAnalysis as LDA\n",
    "from sklearn.preprocessing import StandardScaler\n",
    "from sklearn.svm import SVC\n",
    "from sklearn.metrics import confusion_matrix \n",
    "from sklearn.metrics import accuracy_score\n",
    "from matplotlib import pyplot as plt\n",
    "import time"
   ]
  },
  {
   "cell_type": "markdown",
   "metadata": {},
   "source": [
    "### Load the dataset"
   ]
  },
  {
   "cell_type": "code",
   "execution_count": null,
   "metadata": {},
   "outputs": [],
   "source": [
    "data = pd.read_csv('winequality.csv')\n",
    "df = data.copy()\n",
    "df"
   ]
  },
  {
   "cell_type": "markdown",
   "metadata": {},
   "source": [
    "### Import the standardization tool"
   ]
  },
  {
   "cell_type": "code",
   "execution_count": null,
   "metadata": {},
   "outputs": [],
   "source": [
    "scaler = StandardScaler()"
   ]
  },
  {
   "cell_type": "code",
   "execution_count": null,
   "metadata": {},
   "outputs": [],
   "source": [
    "X = df.iloc[:,0:11].values\n",
    "y = df.iloc[:,11].values\n",
    "\n",
    "X_std = scaler.fit_transform(X)"
   ]
  },
  {
   "cell_type": "code",
   "execution_count": null,
   "metadata": {},
   "outputs": [],
   "source": [
    "print(y)"
   ]
  },
  {
   "cell_type": "markdown",
   "metadata": {},
   "source": [
    "### Calculate the class means"
   ]
  },
  {
   "cell_type": "code",
   "execution_count": null,
   "metadata": {},
   "outputs": [],
   "source": [
    "np.set_printoptions(precision=1)\n",
    "\n",
    "mean_vectors=[]\n",
    "for gr in range(3,9):\n",
    "    mean_vectors.append(np.mean(X_std[y==gr],axis=0))\n",
    "    print('Mean Vector quality %s :%s\\n'%(gr,mean_vectors[gr-3]))"
   ]
  },
  {
   "cell_type": "markdown",
   "metadata": {},
   "source": [
    "# Calculating the Within- and Between-Class Scatter Matrices"
   ]
  },
  {
   "cell_type": "markdown",
   "metadata": {},
   "source": [
    "### Calculate the within-class scatter matrix"
   ]
  },
  {
   "cell_type": "code",
   "execution_count": null,
   "metadata": {},
   "outputs": [],
   "source": [
    "S_w = np.zeros((11,11))\n",
    "\n",
    "for gr,mv in zip(range(3,9),mean_vectors):\n",
    "    class_sc_mat=np.zeros((11,11))\n",
    "    \n",
    "    for row in X_std[y==gr]:\n",
    "        \n",
    "        row,mv = row.reshape(11,1), mv.reshape(11,1)\n",
    "        class_sc_mat+=(row-mv).dot((row-mv).T)\n",
    "\n",
    "    S_w+=class_sc_mat\n",
    "print('Within class-scatter matrix:\\n',S_w)"
   ]
  },
  {
   "cell_type": "markdown",
   "metadata": {},
   "source": [
    "### Calculate the between-class scatter matrix"
   ]
  },
  {
   "cell_type": "code",
   "execution_count": null,
   "metadata": {},
   "outputs": [],
   "source": [
    "overall_mean = np.mean(X_std, axis=0)\n",
    "c=0\n",
    "S_b=np.zeros((11,11))\n",
    "for i, mean_vec in enumerate(mean_vectors):\n",
    "    n=X_std[y==i+3,:].shape[0]\n",
    "    c+=1\n",
    "    mean_vec=mean_vec.reshape(11,1)\n",
    "    overall_mean=overall_mean.reshape(11,1)\n",
    "    S_b+=n*(mean_vec-overall_mean).dot((mean_vec-overall_mean).T)\n",
    "  \n",
    "print('Between class scatter matrix:\\n',S_b)"
   ]
  },
  {
   "cell_type": "markdown",
   "metadata": {},
   "source": [
    "### Find the eigenvectors and eigenvalues pairs "
   ]
  },
  {
   "cell_type": "code",
   "execution_count": null,
   "metadata": {},
   "outputs": [],
   "source": [
    "eig_vals,eig_vecs=np.linalg.eig(np.linalg.inv(S_w).dot(S_b))\n",
    "\n",
    "for i in range(len(eig_vals)):\n",
    "    eigvec_sc=eig_vecs[:,i].reshape(11,1)\n",
    "    print('\\nEigenvector {}:\\n{}'.format(i+1,eigvec_sc.real))\n",
    "    print('\\nEigenvalue {:}:{:.2e}'.format(i+1,eig_vals[i].real))"
   ]
  },
  {
   "cell_type": "markdown",
   "metadata": {},
   "source": [
    "### Order the eigenpairs in descending order with respect to the eigenvalues"
   ]
  },
  {
   "cell_type": "code",
   "execution_count": null,
   "metadata": {},
   "outputs": [],
   "source": [
    "eig_pairs=[]\n",
    "for i in range(len(eig_vals)):\n",
    "    if eig_vals[i]<0:\n",
    "        eig_pairs.append((-eig_vals[i],-eig_vecs[:,i]))\n",
    "    else:\n",
    "        eig_pairs.append((eig_vals[i],eig_vecs[:,i]))\n",
    "eig_pairs=sorted(eig_pairs,key=lambda k: k[0], reverse=True)\n",
    "\n",
    "print('Evalues in decreasing order:\\n')\n",
    "for i in range(len(eig_pairs)):\n",
    "    print('Evalue:\\n')\n",
    "    print(eig_pairs[i][0].real)\n",
    "    print('\\n')\n",
    "    print('Associated evector:\\n')\n",
    "    print(eig_pairs[i][1].real)\n",
    "    print('\\n')"
   ]
  },
  {
   "cell_type": "markdown",
   "metadata": {},
   "source": [
    "# Analysis of LDA"
   ]
  },
  {
   "cell_type": "markdown",
   "metadata": {},
   "source": [
    "### Show the explained variance by each respective eigenvector"
   ]
  },
  {
   "cell_type": "code",
   "execution_count": null,
   "metadata": {},
   "outputs": [],
   "source": [
    "print('Variance explained:\\n')\n",
    "eigv_sum = sum(eig_vals)\n",
    "for i,j in enumerate(eig_pairs):\n",
    "    print('eigenvalue {0:}: {1:.2%}'.format(i+1, (j[0].real/eigv_sum.real)))  "
   ]
  },
  {
   "cell_type": "markdown",
   "metadata": {},
   "source": [
    "### Take the first two eigenvectors retaining the most variance"
   ]
  },
  {
   "cell_type": "code",
   "execution_count": null,
   "metadata": {},
   "outputs": [],
   "source": [
    "W = np.hstack((eig_pairs[0][1].reshape(11,1), eig_pairs[1][1].reshape(11,1)))\n",
    "print('Matrix W:\\n', W.real)"
   ]
  },
  {
   "cell_type": "markdown",
   "metadata": {},
   "source": [
    "### Project the data onto the new axes (linear discriminants)"
   ]
  },
  {
   "cell_type": "code",
   "execution_count": null,
   "metadata": {},
   "outputs": [],
   "source": [
    "X_lda = X_std.dot(W)"
   ]
  },
  {
   "cell_type": "code",
   "execution_count": null,
   "metadata": {},
   "outputs": [],
   "source": [
    "X_std.shape"
   ]
  },
  {
   "cell_type": "code",
   "execution_count": null,
   "metadata": {},
   "outputs": [],
   "source": [
    "X.shape"
   ]
  },
  {
   "cell_type": "code",
   "execution_count": null,
   "metadata": {},
   "outputs": [],
   "source": [
    "X_lda.shape"
   ]
  },
  {
   "cell_type": "markdown",
   "metadata": {},
   "source": [
    "### Plot the dataset after performing LDA"
   ]
  },
  {
   "cell_type": "code",
   "execution_count": null,
   "metadata": {},
   "outputs": [],
   "source": [
    "def plot_step_lda():\n",
    "    fig=plt.figure()\n",
    "    \n",
    "    ax = plt.subplot(111)\n",
    "    \n",
    "    for label,color in zip(\n",
    "        range(3,9),('blue', 'red', 'green','yellow','black','orange')):\n",
    "\n",
    "        plt.scatter(x=X_lda[:,0].real[y == label],\n",
    "                y=X_lda[:,1].real[y == label],\n",
    "                \n",
    "               color=color,\n",
    "                alpha=0.5,\n",
    "                label=label\n",
    "               )\n",
    "       \n",
    "    plt.xlabel('Linear Discriminant 1')\n",
    "    plt.ylabel('Linear Discriminant 2')\n",
    "    \n",
    "    leg = plt.legend(loc='upper right', fancybox=True)\n",
    "    leg.get_frame().set_alpha(0.5)\n",
    "    plt.title('LDA: Wine data projection onto the first 2 linear discriminants')\n",
    " \n",
    "    ax.spines[\"top\"].set_visible(False)  \n",
    "    ax.spines[\"right\"].set_visible(False)\n",
    "    ax.spines[\"bottom\"].set_visible(False)\n",
    "    ax.spines[\"left\"].set_visible(False)    \n",
    "\n",
    "    plt.grid()\n",
    "    plt.show()\n",
    "\n",
    "plot_step_lda()"
   ]
  },
  {
   "cell_type": "markdown",
   "metadata": {},
   "source": [
    "### For comparison add the plot when using PCA"
   ]
  },
  {
   "cell_type": "code",
   "execution_count": null,
   "metadata": {},
   "outputs": [],
   "source": [
    "pca = PCA(n_components=2)\n",
    "X_pca = pca.fit_transform(X_std)"
   ]
  },
  {
   "cell_type": "markdown",
   "metadata": {},
   "source": [
    "### Plot the dataset after perfoming PCA "
   ]
  },
  {
   "cell_type": "code",
   "execution_count": null,
   "metadata": {},
   "outputs": [],
   "source": [
    "def plot_step_pca():\n",
    "    fig=plt.figure()\n",
    "\n",
    "    ax = plt.subplot(111)\n",
    "    for label,color in zip(\n",
    "            range(3,9),('blue', 'red', 'green','yellow','black','orange')):\n",
    "\n",
    "            plt.scatter(x=X_pca[:,0].real[y == label],\n",
    "                    y=X_pca[:,1].real[y == label],\n",
    "                \n",
    "                    color=color,\n",
    "                    alpha=0.5,\n",
    "                    label=label\n",
    "                    )\n",
    "\n",
    "    plt.xlabel('Principal Component 1')\n",
    "    plt.ylabel('Principal Component 2')\n",
    "\n",
    "    leg = plt.legend(loc='upper right', fancybox=True)\n",
    "    leg.get_frame().set_alpha(0.5)\n",
    "    plt.title(\"PCA: Wine data projection onto the first 2 principal components\")\n",
    "    \n",
    "    ax.spines[\"top\"].set_visible(False)  \n",
    "    ax.spines[\"right\"].set_visible(False)\n",
    "    ax.spines[\"bottom\"].set_visible(False)\n",
    "    ax.spines[\"left\"].set_visible(False)    \n",
    "\n",
    "    plt.grid()\n",
    "    plt.show() \n",
    "plot_step_pca()"
   ]
  },
  {
   "cell_type": "markdown",
   "metadata": {},
   "source": [
    "### Split the dataset into training and testing part"
   ]
  },
  {
   "cell_type": "code",
   "execution_count": null,
   "metadata": {},
   "outputs": [],
   "source": [
    "X_train, X_test, y_train, y_test = train_test_split(X,y,test_size=0.2,random_state=0)"
   ]
  },
  {
   "cell_type": "code",
   "execution_count": null,
   "metadata": {},
   "outputs": [],
   "source": [
    "scaler = StandardScaler()\n",
    "\n",
    "X_train = scaler.fit_transform(X_train)\n",
    "X_test = scaler.transform(X_test)"
   ]
  },
  {
   "cell_type": "markdown",
   "metadata": {},
   "source": [
    "### Perform LDA with 2 *linear discriminants* and store the respective results from the training and testing parts"
   ]
  },
  {
   "cell_type": "code",
   "execution_count": null,
   "metadata": {},
   "outputs": [],
   "source": [
    "lda = LDA(n_components=2)"
   ]
  },
  {
   "cell_type": "code",
   "execution_count": null,
   "metadata": {},
   "outputs": [],
   "source": [
    "X_train_lda=lda.fit_transform(X_train,y_train)"
   ]
  },
  {
   "cell_type": "code",
   "execution_count": null,
   "metadata": {},
   "outputs": [],
   "source": [
    "X_test_lda=lda.transform(X_test)"
   ]
  },
  {
   "cell_type": "markdown",
   "metadata": {},
   "source": [
    "### Perform PCA with 2 *principal components* and store the respective results from the training and testing parts"
   ]
  },
  {
   "cell_type": "code",
   "execution_count": null,
   "metadata": {},
   "outputs": [],
   "source": [
    "pca = PCA(n_components=2)"
   ]
  },
  {
   "cell_type": "code",
   "execution_count": null,
   "metadata": {},
   "outputs": [],
   "source": [
    "X_train_pca=pca.fit_transform(X_train)"
   ]
  },
  {
   "cell_type": "code",
   "execution_count": null,
   "metadata": {},
   "outputs": [],
   "source": [
    "X_test_pca=pca.transform(X_test)"
   ]
  },
  {
   "cell_type": "markdown",
   "metadata": {},
   "source": [
    "### Import the classifier "
   ]
  },
  {
   "cell_type": "code",
   "execution_count": null,
   "metadata": {},
   "outputs": [],
   "source": [
    "svclassifier = SVC(kernel='linear')"
   ]
  },
  {
   "cell_type": "markdown",
   "metadata": {},
   "source": [
    "### Run the classifier through the LDA train and test sets and return the neccessary time for training and testing"
   ]
  },
  {
   "cell_type": "code",
   "execution_count": null,
   "metadata": {},
   "outputs": [],
   "source": [
    "def train_test_lda():\n",
    "    s=[]\n",
    "    start_train_lda=time.time()\n",
    "    svclassifier.fit(X_train_lda,y_train)\n",
    "    finish_train_lda=time.time()\n",
    "    \n",
    "    start_test_lda=time.time()\n",
    "    y_pred_lda=svclassifier.predict(X_test_lda)\n",
    "    finish_test_lda=time.time()\n",
    "  \n",
    "    s.append(finish_train_lda-start_train_lda)\n",
    "    s.append(finish_test_lda-start_test_lda)\n",
    "    s.append(y_pred_lda)\n",
    "\n",
    "    return s"
   ]
  },
  {
   "cell_type": "markdown",
   "metadata": {},
   "source": [
    "### Run the classifier through the PCA train and test sets and return the neccessary time for training and testing"
   ]
  },
  {
   "cell_type": "code",
   "execution_count": null,
   "metadata": {},
   "outputs": [],
   "source": [
    "def train_test_pca():\n",
    "    l=[]\n",
    "    start_train_pca=time.time()\n",
    "    svclassifier.fit(X_train_pca,y_train)\n",
    "    finish_train_pca=time.time()\n",
    "    \n",
    "    start_test_pca=time.time()\n",
    "    y_pred_pca=svclassifier.predict(X_test_pca)\n",
    "    finish_test_pca=time.time()\n",
    "  \n",
    "    l.append(finish_train_pca-start_train_pca)\n",
    "    l.append(finish_test_pca-start_test_pca)\n",
    "    l.append(y_pred_pca)\n",
    "    \n",
    "    return l"
   ]
  },
  {
   "cell_type": "markdown",
   "metadata": {},
   "source": [
    "# Analysis of the Training and Testing Times for the Classifier and Its Accuracy"
   ]
  },
  {
   "cell_type": "code",
   "execution_count": null,
   "metadata": {},
   "outputs": [],
   "source": [
    "train_lda=0\n",
    "test_lda=0\n",
    "for i in range(10):\n",
    "    \n",
    "    c=train_test_lda()\n",
    "    train_lda+=c[0]\n",
    "    test_lda+=c[1]\n",
    "    \n",
    "print('Average time for training out of 10 runs for LDA:{}'.format(train_lda/10))\n",
    "print('Average time for testing out of 10 runs for LDA:{}'.format(test_lda/10))"
   ]
  },
  {
   "cell_type": "code",
   "execution_count": null,
   "metadata": {},
   "outputs": [],
   "source": [
    "train_pca=0\n",
    "test_pca=0\n",
    "for i in range(10):\n",
    "    \n",
    "    m=train_test_pca()\n",
    "    train_pca+=m[0]\n",
    "    test_pca+=m[1]\n",
    "    \n",
    "print('Average time for training out of 10 runs for PCA:{}'.format(train_pca/10))\n",
    "print('Average time for testing out of 10 runs for PCA:{}'.format(test_pca/10))"
   ]
  },
  {
   "cell_type": "code",
   "execution_count": null,
   "metadata": {},
   "outputs": [],
   "source": [
    "a = train_test_lda()\n",
    "b = train_test_pca()"
   ]
  },
  {
   "cell_type": "markdown",
   "metadata": {},
   "source": [
    "### Print out the confussion matrix for the LDA test set"
   ]
  },
  {
   "cell_type": "code",
   "execution_count": null,
   "metadata": {
    "scrolled": true
   },
   "outputs": [],
   "source": [
    "cm_lda = confusion_matrix(y_test,a[2])\n",
    "print('Confussion matrix for LDA:\\n')\n",
    "print(cm_lda)\n",
    "print('\\n')\n",
    "print('LDA Accuracy:'+' '+ str(accuracy_score(y_test,a[2])))"
   ]
  },
  {
   "cell_type": "markdown",
   "metadata": {},
   "source": [
    "### Print out the confussion matrix for the PCA test set"
   ]
  },
  {
   "cell_type": "code",
   "execution_count": null,
   "metadata": {
    "scrolled": true
   },
   "outputs": [],
   "source": [
    "cm_pca = confusion_matrix(y_test,b[2])\n",
    "print('Confussion matrix for PCA:\\n')\n",
    "print(cm_pca)\n",
    "print('\\n')\n",
    "print('PCA Accuracy:'+' '+ str(accuracy_score(y_test,b[2])))"
   ]
  }
 ],
 "metadata": {
  "kernelspec": {
   "display_name": "Python 3",
   "language": "python",
   "name": "python3"
  },
  "language_info": {
   "codemirror_mode": {
    "name": "ipython",
    "version": 3
   },
   "file_extension": ".py",
   "mimetype": "text/x-python",
   "name": "python",
   "nbconvert_exporter": "python",
   "pygments_lexer": "ipython3",
   "version": "3.8.3"
  }
 },
 "nbformat": 4,
 "nbformat_minor": 5
}
