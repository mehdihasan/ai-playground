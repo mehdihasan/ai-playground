{
 "cells": [
  {
   "cell_type": "markdown",
   "id": "39f6bfb6",
   "metadata": {},
   "source": [
    "# Exercise - Regularization with Cross-validation"
   ]
  },
  {
   "cell_type": "markdown",
   "id": "7524aa04",
   "metadata": {},
   "source": [
    "In this assignment, you will practice the obtained skills on regularization.\n",
    "    \n",
    "Your task is to create ridge and lasso regression and to perform cross-validation for choosing a tuning parameteter on the 'Hitters' dataset. After that, you'll be reqiuired to make predictions and evaluate the performance of the models.\n",
    "\n",
    "Good luck and have fun!"
   ]
  },
  {
   "cell_type": "markdown",
   "id": "0ac8099e",
   "metadata": {},
   "source": [
    "## Import the necessary libraires for integrating ridge and lasso regression including a cross-validator"
   ]
  },
  {
   "cell_type": "code",
   "execution_count": null,
   "id": "66278f49",
   "metadata": {},
   "outputs": [],
   "source": [
    "import pandas as pd\n",
    "import numpy as np\n",
    "import math\n",
    "\n",
    "from sklearn.preprocessing import StandardScaler\n",
    "\n",
    "### ENTER YOUR CODE HERE ###\n",
    "### ENTER YOUR CODE HERE ###\n",
    "\n",
    "from sklearn.model_selection import RepeatedKFold\n",
    "from sklearn.model_selection import train_test_split\n",
    "\n",
    "from sklearn.metrics import mean_squared_error"
   ]
  },
  {
   "cell_type": "markdown",
   "id": "42e4682b",
   "metadata": {},
   "source": [
    "## Load the data"
   ]
  },
  {
   "cell_type": "code",
   "execution_count": null,
   "id": "2ad5bb9a",
   "metadata": {},
   "outputs": [],
   "source": [
    "data = pd.read_csv('Hitters.csv')\n",
    "df_hitters_ex = data.copy()\n",
    "df_hitters_ex"
   ]
  },
  {
   "cell_type": "markdown",
   "id": "c88bfd42",
   "metadata": {},
   "source": [
    "## Convert categorical variables into numerical and drop NaN values"
   ]
  },
  {
   "cell_type": "code",
   "execution_count": null,
   "id": "29ba34c1",
   "metadata": {},
   "outputs": [],
   "source": [
    "### ENTER YOUR CODE HERE ###"
   ]
  },
  {
   "cell_type": "code",
   "execution_count": null,
   "id": "e44b7992",
   "metadata": {},
   "outputs": [],
   "source": [
    "### ENTER YOUR CODE HERE ###"
   ]
  },
  {
   "cell_type": "markdown",
   "id": "fb6aa766",
   "metadata": {},
   "source": [
    "## Declare the dependent and independent variables"
   ]
  },
  {
   "cell_type": "markdown",
   "id": "4e1f9c83",
   "metadata": {},
   "source": [
    "* Target: the 'Salary' column"
   ]
  },
  {
   "cell_type": "code",
   "execution_count": null,
   "id": "df6d40ec",
   "metadata": {},
   "outputs": [],
   "source": [
    "### ENTER YOUR CODE HERE ###"
   ]
  },
  {
   "cell_type": "markdown",
   "id": "a55fa773",
   "metadata": {},
   "source": [
    "## Split the data into training and tesitng"
   ]
  },
  {
   "cell_type": "markdown",
   "id": "f8029e3f",
   "metadata": {},
   "source": [
    "* Perform a 70:30 split - 30% of the data should be dedicated to testing.\n",
    "* Set the random state to 365."
   ]
  },
  {
   "cell_type": "code",
   "execution_count": null,
   "id": "c07f169b",
   "metadata": {},
   "outputs": [],
   "source": [
    "x_train, x_test, y_train, y_test = ### ENTER YOUR CODE HERE ###"
   ]
  },
  {
   "cell_type": "code",
   "execution_count": null,
   "id": "c10ff940",
   "metadata": {},
   "outputs": [],
   "source": [
    "scaler = StandardScaler()\n",
    "\n",
    "x_train = scaler.fit_transform(x_train)\n",
    "x_test = scaler.transform(x_test)"
   ]
  },
  {
   "cell_type": "markdown",
   "id": "3020eefe",
   "metadata": {},
   "source": [
    "## Initialize a Repeated K-Fold cross-validator"
   ]
  },
  {
   "cell_type": "markdown",
   "id": "53a4966a",
   "metadata": {},
   "source": [
    "* n_splits=15, n_repeats=5, random_state=365"
   ]
  },
  {
   "cell_type": "code",
   "execution_count": null,
   "id": "8b709a66",
   "metadata": {},
   "outputs": [],
   "source": [
    "### ENTER YOUR CODE HERE ###"
   ]
  },
  {
   "cell_type": "markdown",
   "id": "169f3774",
   "metadata": {},
   "source": [
    "## Perform ridge regression with Repeated K-Fold cross-validation"
   ]
  },
  {
   "cell_type": "markdown",
   "id": "fea0ff98",
   "metadata": {},
   "source": [
    "* np.arange(0.1, 15, 0.1)\n",
    "* scoring = 'neg_mean_absolute_error'"
   ]
  },
  {
   "cell_type": "code",
   "execution_count": null,
   "id": "6751d014",
   "metadata": {},
   "outputs": [],
   "source": [
    "### ENTER YOUR CODE HERE ###"
   ]
  },
  {
   "cell_type": "markdown",
   "id": "bcfd797a",
   "metadata": {},
   "source": [
    "## Perform lasso regression with Repeated K-Fold cross-validation"
   ]
  },
  {
   "cell_type": "markdown",
   "id": "67ba3fef",
   "metadata": {},
   "source": [
    "* tol=1"
   ]
  },
  {
   "cell_type": "code",
   "execution_count": null,
   "id": "2975c1d9",
   "metadata": {},
   "outputs": [],
   "source": [
    "### ENTER YOUR CODE HERE ###"
   ]
  },
  {
   "cell_type": "markdown",
   "id": "777a862f",
   "metadata": {},
   "source": [
    "## Make predictions on the test data using the two models and evaluate their performance considering the root mean squared error "
   ]
  },
  {
   "cell_type": "code",
   "execution_count": null,
   "id": "839a3398",
   "metadata": {},
   "outputs": [],
   "source": [
    "### ENTER YOUR CODE HERE ###"
   ]
  }
 ],
 "metadata": {
  "kernelspec": {
   "display_name": "Python 3 (ipykernel)",
   "language": "python",
   "name": "python3"
  },
  "language_info": {
   "codemirror_mode": {
    "name": "ipython",
    "version": 3
   },
   "file_extension": ".py",
   "mimetype": "text/x-python",
   "name": "python",
   "nbconvert_exporter": "python",
   "pygments_lexer": "ipython3",
   "version": "3.9.7"
  }
 },
 "nbformat": 4,
 "nbformat_minor": 5
}
